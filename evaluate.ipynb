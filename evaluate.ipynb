{
 "cells": [
  {
   "cell_type": "code",
   "execution_count": 1,
   "id": "0451e6df",
   "metadata": {},
   "outputs": [],
   "source": [
    "import pandas as pd\n",
    "import numpy as np\n",
    "\n",
    "import matplotlib.pyplot as plt\n",
    "import seaborn as sns\n",
    "\n",
    "from sklearn.metrics import mean_squared_error, r2_score\n",
    "from sklearn.linear_model import LinearRegression\n",
    "\n",
    "import warnings\n",
    "warnings.filterwarnings('ignore')"
   ]
  },
  {
   "cell_type": "markdown",
   "id": "15076c4a",
   "metadata": {},
   "source": [
    "# Evaluating Regression Models Exercises\n",
    "\n",
    "Do you work for this exercise in either a jupyter notebook named evaluate within your regression-exercises repository. By the end of this exercise you will also create a python script named evaluate, so the overall deliverables for this exercise are the python script and jupyter notebook both with the name evaluate within your regression-exercises repo.\n",
    "\n"
   ]
  },
  {
   "cell_type": "markdown",
   "id": "72bfd562",
   "metadata": {},
   "source": [
    "##### 1. Load your zillow dataset."
   ]
  },
  {
   "cell_type": "code",
   "execution_count": 2,
   "id": "b7bf9360",
   "metadata": {},
   "outputs": [],
   "source": [
    "import wrangle\n",
    "import prepare"
   ]
  },
  {
   "cell_type": "code",
   "execution_count": 3,
   "id": "906026bd",
   "metadata": {},
   "outputs": [
    {
     "data": {
      "text/html": [
       "<div>\n",
       "<style scoped>\n",
       "    .dataframe tbody tr th:only-of-type {\n",
       "        vertical-align: middle;\n",
       "    }\n",
       "\n",
       "    .dataframe tbody tr th {\n",
       "        vertical-align: top;\n",
       "    }\n",
       "\n",
       "    .dataframe thead th {\n",
       "        text-align: right;\n",
       "    }\n",
       "</style>\n",
       "<table border=\"1\" class=\"dataframe\">\n",
       "  <thead>\n",
       "    <tr style=\"text-align: right;\">\n",
       "      <th></th>\n",
       "      <th>bedroomcnt</th>\n",
       "      <th>bathroomcnt</th>\n",
       "      <th>calculatedfinishedsquarefeet</th>\n",
       "      <th>taxvaluedollarcnt</th>\n",
       "      <th>yearbuilt</th>\n",
       "      <th>taxamount</th>\n",
       "      <th>county</th>\n",
       "    </tr>\n",
       "  </thead>\n",
       "  <tbody>\n",
       "    <tr>\n",
       "      <th>4</th>\n",
       "      <td>4</td>\n",
       "      <td>2.0</td>\n",
       "      <td>3633.0</td>\n",
       "      <td>296425.0</td>\n",
       "      <td>2005</td>\n",
       "      <td>6941.39</td>\n",
       "      <td>los_angeles</td>\n",
       "    </tr>\n",
       "    <tr>\n",
       "      <th>6</th>\n",
       "      <td>3</td>\n",
       "      <td>4.0</td>\n",
       "      <td>1620.0</td>\n",
       "      <td>847770.0</td>\n",
       "      <td>2011</td>\n",
       "      <td>10244.94</td>\n",
       "      <td>los_angeles</td>\n",
       "    </tr>\n",
       "    <tr>\n",
       "      <th>7</th>\n",
       "      <td>3</td>\n",
       "      <td>2.0</td>\n",
       "      <td>2077.0</td>\n",
       "      <td>646760.0</td>\n",
       "      <td>1926</td>\n",
       "      <td>7924.68</td>\n",
       "      <td>los_angeles</td>\n",
       "    </tr>\n",
       "    <tr>\n",
       "      <th>18</th>\n",
       "      <td>3</td>\n",
       "      <td>1.0</td>\n",
       "      <td>1244.0</td>\n",
       "      <td>169471.0</td>\n",
       "      <td>1950</td>\n",
       "      <td>2532.88</td>\n",
       "      <td>los_angeles</td>\n",
       "    </tr>\n",
       "    <tr>\n",
       "      <th>19</th>\n",
       "      <td>3</td>\n",
       "      <td>2.0</td>\n",
       "      <td>1300.0</td>\n",
       "      <td>233266.0</td>\n",
       "      <td>1950</td>\n",
       "      <td>3110.99</td>\n",
       "      <td>los_angeles</td>\n",
       "    </tr>\n",
       "  </tbody>\n",
       "</table>\n",
       "</div>"
      ],
      "text/plain": [
       "    bedroomcnt  bathroomcnt  calculatedfinishedsquarefeet  taxvaluedollarcnt  \\\n",
       "4            4          2.0                        3633.0           296425.0   \n",
       "6            3          4.0                        1620.0           847770.0   \n",
       "7            3          2.0                        2077.0           646760.0   \n",
       "18           3          1.0                        1244.0           169471.0   \n",
       "19           3          2.0                        1300.0           233266.0   \n",
       "\n",
       "    yearbuilt  taxamount       county  \n",
       "4        2005    6941.39  los_angeles  \n",
       "6        2011   10244.94  los_angeles  \n",
       "7        1926    7924.68  los_angeles  \n",
       "18       1950    2532.88  los_angeles  \n",
       "19       1950    3110.99  los_angeles  "
      ]
     },
     "execution_count": 3,
     "metadata": {},
     "output_type": "execute_result"
    }
   ],
   "source": [
    "df = wrangle.get_zillow()\n",
    "df = wrangle.wrangle_zillow(df)\n",
    "df.head()"
   ]
  },
  {
   "cell_type": "code",
   "execution_count": 8,
   "id": "0297dae8",
   "metadata": {},
   "outputs": [
    {
     "data": {
      "text/html": [
       "<div>\n",
       "<style scoped>\n",
       "    .dataframe tbody tr th:only-of-type {\n",
       "        vertical-align: middle;\n",
       "    }\n",
       "\n",
       "    .dataframe tbody tr th {\n",
       "        vertical-align: top;\n",
       "    }\n",
       "\n",
       "    .dataframe thead th {\n",
       "        text-align: right;\n",
       "    }\n",
       "</style>\n",
       "<table border=\"1\" class=\"dataframe\">\n",
       "  <thead>\n",
       "    <tr style=\"text-align: right;\">\n",
       "      <th></th>\n",
       "      <th>bedroomcnt</th>\n",
       "      <th>bathroomcnt</th>\n",
       "      <th>calculatedfinishedsquarefeet</th>\n",
       "      <th>taxvaluedollarcnt</th>\n",
       "      <th>yearbuilt</th>\n",
       "      <th>taxamount</th>\n",
       "      <th>county</th>\n",
       "    </tr>\n",
       "  </thead>\n",
       "  <tbody>\n",
       "    <tr>\n",
       "      <th>492481</th>\n",
       "      <td>0.142857</td>\n",
       "      <td>0.103448</td>\n",
       "      <td>0.232857</td>\n",
       "      <td>0.261201</td>\n",
       "      <td>0.711628</td>\n",
       "      <td>0.049164</td>\n",
       "      <td>orange</td>\n",
       "    </tr>\n",
       "    <tr>\n",
       "      <th>108997</th>\n",
       "      <td>0.142857</td>\n",
       "      <td>0.172414</td>\n",
       "      <td>0.490781</td>\n",
       "      <td>0.440578</td>\n",
       "      <td>0.651163</td>\n",
       "      <td>0.066706</td>\n",
       "      <td>los_angeles</td>\n",
       "    </tr>\n",
       "    <tr>\n",
       "      <th>1787613</th>\n",
       "      <td>0.142857</td>\n",
       "      <td>0.103448</td>\n",
       "      <td>0.252952</td>\n",
       "      <td>0.046021</td>\n",
       "      <td>0.781395</td>\n",
       "      <td>0.008569</td>\n",
       "      <td>ventura</td>\n",
       "    </tr>\n",
       "    <tr>\n",
       "      <th>953750</th>\n",
       "      <td>0.142857</td>\n",
       "      <td>0.103448</td>\n",
       "      <td>0.283613</td>\n",
       "      <td>0.441168</td>\n",
       "      <td>0.716279</td>\n",
       "      <td>0.087722</td>\n",
       "      <td>los_angeles</td>\n",
       "    </tr>\n",
       "    <tr>\n",
       "      <th>1302574</th>\n",
       "      <td>0.285714</td>\n",
       "      <td>0.310345</td>\n",
       "      <td>0.764450</td>\n",
       "      <td>0.543872</td>\n",
       "      <td>0.934884</td>\n",
       "      <td>0.109837</td>\n",
       "      <td>los_angeles</td>\n",
       "    </tr>\n",
       "  </tbody>\n",
       "</table>\n",
       "</div>"
      ],
      "text/plain": [
       "         bedroomcnt  bathroomcnt  calculatedfinishedsquarefeet  \\\n",
       "492481     0.142857     0.103448                      0.232857   \n",
       "108997     0.142857     0.172414                      0.490781   \n",
       "1787613    0.142857     0.103448                      0.252952   \n",
       "953750     0.142857     0.103448                      0.283613   \n",
       "1302574    0.285714     0.310345                      0.764450   \n",
       "\n",
       "         taxvaluedollarcnt  yearbuilt  taxamount       county  \n",
       "492481            0.261201   0.711628   0.049164       orange  \n",
       "108997            0.440578   0.651163   0.066706  los_angeles  \n",
       "1787613           0.046021   0.781395   0.008569      ventura  \n",
       "953750            0.441168   0.716279   0.087722  los_angeles  \n",
       "1302574           0.543872   0.934884   0.109837  los_angeles  "
      ]
     },
     "execution_count": 8,
     "metadata": {},
     "output_type": "execute_result"
    }
   ],
   "source": [
    "train, validate, test = prepare.split_zillow(df)\n",
    "columns_to_scale = train.select_dtypes('number').columns\n",
    "train, validate, test = prepare.data_scaler(train, validate, test, columns_to_scale)\n",
    "train.head()"
   ]
  },
  {
   "cell_type": "markdown",
   "id": "9ecc8f5f",
   "metadata": {},
   "source": [
    "##### 2. Fit a linear regression model (ordinary least squares) and compute yhat, predictions of taxvaluedollarcnt using only calfulatedfinishedsqft."
   ]
  },
  {
   "cell_type": "code",
   "execution_count": 12,
   "id": "98ae60b1",
   "metadata": {},
   "outputs": [
    {
     "data": {
      "text/html": [
       "<div>\n",
       "<style scoped>\n",
       "    .dataframe tbody tr th:only-of-type {\n",
       "        vertical-align: middle;\n",
       "    }\n",
       "\n",
       "    .dataframe tbody tr th {\n",
       "        vertical-align: top;\n",
       "    }\n",
       "\n",
       "    .dataframe thead th {\n",
       "        text-align: right;\n",
       "    }\n",
       "</style>\n",
       "<table border=\"1\" class=\"dataframe\">\n",
       "  <thead>\n",
       "    <tr style=\"text-align: right;\">\n",
       "      <th></th>\n",
       "      <th>bedroomcnt</th>\n",
       "      <th>bathroomcnt</th>\n",
       "      <th>calculatedfinishedsquarefeet</th>\n",
       "      <th>taxvaluedollarcnt</th>\n",
       "      <th>yearbuilt</th>\n",
       "      <th>taxamount</th>\n",
       "      <th>county</th>\n",
       "      <th>yhat</th>\n",
       "    </tr>\n",
       "  </thead>\n",
       "  <tbody>\n",
       "    <tr>\n",
       "      <th>492481</th>\n",
       "      <td>0.142857</td>\n",
       "      <td>0.103448</td>\n",
       "      <td>0.232857</td>\n",
       "      <td>0.261201</td>\n",
       "      <td>0.711628</td>\n",
       "      <td>0.049164</td>\n",
       "      <td>orange</td>\n",
       "      <td>0.166556</td>\n",
       "    </tr>\n",
       "    <tr>\n",
       "      <th>108997</th>\n",
       "      <td>0.142857</td>\n",
       "      <td>0.172414</td>\n",
       "      <td>0.490781</td>\n",
       "      <td>0.440578</td>\n",
       "      <td>0.651163</td>\n",
       "      <td>0.066706</td>\n",
       "      <td>los_angeles</td>\n",
       "      <td>0.329765</td>\n",
       "    </tr>\n",
       "    <tr>\n",
       "      <th>1787613</th>\n",
       "      <td>0.142857</td>\n",
       "      <td>0.103448</td>\n",
       "      <td>0.252952</td>\n",
       "      <td>0.046021</td>\n",
       "      <td>0.781395</td>\n",
       "      <td>0.008569</td>\n",
       "      <td>ventura</td>\n",
       "      <td>0.179272</td>\n",
       "    </tr>\n",
       "    <tr>\n",
       "      <th>953750</th>\n",
       "      <td>0.142857</td>\n",
       "      <td>0.103448</td>\n",
       "      <td>0.283613</td>\n",
       "      <td>0.441168</td>\n",
       "      <td>0.716279</td>\n",
       "      <td>0.087722</td>\n",
       "      <td>los_angeles</td>\n",
       "      <td>0.198673</td>\n",
       "    </tr>\n",
       "    <tr>\n",
       "      <th>1302574</th>\n",
       "      <td>0.285714</td>\n",
       "      <td>0.310345</td>\n",
       "      <td>0.764450</td>\n",
       "      <td>0.543872</td>\n",
       "      <td>0.934884</td>\n",
       "      <td>0.109837</td>\n",
       "      <td>los_angeles</td>\n",
       "      <td>0.502936</td>\n",
       "    </tr>\n",
       "  </tbody>\n",
       "</table>\n",
       "</div>"
      ],
      "text/plain": [
       "         bedroomcnt  bathroomcnt  calculatedfinishedsquarefeet  \\\n",
       "492481     0.142857     0.103448                      0.232857   \n",
       "108997     0.142857     0.172414                      0.490781   \n",
       "1787613    0.142857     0.103448                      0.252952   \n",
       "953750     0.142857     0.103448                      0.283613   \n",
       "1302574    0.285714     0.310345                      0.764450   \n",
       "\n",
       "         taxvaluedollarcnt  yearbuilt  taxamount       county      yhat  \n",
       "492481            0.261201   0.711628   0.049164       orange  0.166556  \n",
       "108997            0.440578   0.651163   0.066706  los_angeles  0.329765  \n",
       "1787613           0.046021   0.781395   0.008569      ventura  0.179272  \n",
       "953750            0.441168   0.716279   0.087722  los_angeles  0.198673  \n",
       "1302574           0.543872   0.934884   0.109837  los_angeles  0.502936  "
      ]
     },
     "execution_count": 12,
     "metadata": {},
     "output_type": "execute_result"
    }
   ],
   "source": [
    "# creating the OLS model object\n",
    "lm = LinearRegression()\n",
    "\n",
    "# fitting the model to training data\n",
    "lm.fit(train[['calculatedfinishedsquarefeet']], train.taxvaluedollarcnt)\n",
    "\n",
    "# making a prediction\n",
    "train['yhat'] = lm.predict(train[['calculatedfinishedsquarefeet']])\n",
    "\n",
    "train.head()"
   ]
  },
  {
   "cell_type": "code",
   "execution_count": 29,
   "id": "22b4550e",
   "metadata": {},
   "outputs": [
    {
     "data": {
      "image/png": "[encoded data removed]",
      "text/plain": [
       "<Figure size 720x432 with 1 Axes>"
      ]
     },
     "metadata": {
      "needs_background": "light"
     },
     "output_type": "display_data"
    }
   ],
   "source": [
    "# Plotting the resulting regression line\n",
    "plt.figure(figsize=(10, 6))\n",
    "plt.scatter(train.calculatedfinishedsquarefeet, train.taxvaluedollarcnt)\n",
    "plt.plot(train.calculatedfinishedsquarefeet, train.yhat, color = \"#FF5E13\", linewidth = 3)\n",
    "plt.xlabel('x = calculatedfinishedsquarefeet')\n",
    "plt.ylabel('y = taxvaluedollarcnt')\n",
    "plt.show()"
   ]
  },
  {
   "cell_type": "markdown",
   "id": "e714a7b4",
   "metadata": {},
   "source": [
    "##### 3. Plot the residuals for the linear regression model that you made."
   ]
  },
  {
   "cell_type": "code",
   "execution_count": 15,
   "id": "26bc7add",
   "metadata": {},
   "outputs": [],
   "source": [
    "train['residual'] = train['yhat'] - train['taxvaluedollarcnt']"
   ]
  },
  {
   "cell_type": "code",
   "execution_count": 16,
   "id": "6fcee03f",
   "metadata": {},
   "outputs": [
    {
     "data": {
      "text/html": [
       "<div>\n",
       "<style scoped>\n",
       "    .dataframe tbody tr th:only-of-type {\n",
       "        vertical-align: middle;\n",
       "    }\n",
       "\n",
       "    .dataframe tbody tr th {\n",
       "        vertical-align: top;\n",
       "    }\n",
       "\n",
       "    .dataframe thead th {\n",
       "        text-align: right;\n",
       "    }\n",
       "</style>\n",
       "<table border=\"1\" class=\"dataframe\">\n",
       "  <thead>\n",
       "    <tr style=\"text-align: right;\">\n",
       "      <th></th>\n",
       "      <th>bedroomcnt</th>\n",
       "      <th>bathroomcnt</th>\n",
       "      <th>calculatedfinishedsquarefeet</th>\n",
       "      <th>taxvaluedollarcnt</th>\n",
       "      <th>yearbuilt</th>\n",
       "      <th>taxamount</th>\n",
       "      <th>county</th>\n",
       "      <th>yhat</th>\n",
       "      <th>residual</th>\n",
       "    </tr>\n",
       "  </thead>\n",
       "  <tbody>\n",
       "    <tr>\n",
       "      <th>492481</th>\n",
       "      <td>0.142857</td>\n",
       "      <td>0.103448</td>\n",
       "      <td>0.232857</td>\n",
       "      <td>0.261201</td>\n",
       "      <td>0.711628</td>\n",
       "      <td>0.049164</td>\n",
       "      <td>orange</td>\n",
       "      <td>0.166556</td>\n",
       "      <td>-0.094646</td>\n",
       "    </tr>\n",
       "    <tr>\n",
       "      <th>108997</th>\n",
       "      <td>0.142857</td>\n",
       "      <td>0.172414</td>\n",
       "      <td>0.490781</td>\n",
       "      <td>0.440578</td>\n",
       "      <td>0.651163</td>\n",
       "      <td>0.066706</td>\n",
       "      <td>los_angeles</td>\n",
       "      <td>0.329765</td>\n",
       "      <td>-0.110813</td>\n",
       "    </tr>\n",
       "    <tr>\n",
       "      <th>1787613</th>\n",
       "      <td>0.142857</td>\n",
       "      <td>0.103448</td>\n",
       "      <td>0.252952</td>\n",
       "      <td>0.046021</td>\n",
       "      <td>0.781395</td>\n",
       "      <td>0.008569</td>\n",
       "      <td>ventura</td>\n",
       "      <td>0.179272</td>\n",
       "      <td>0.133251</td>\n",
       "    </tr>\n",
       "    <tr>\n",
       "      <th>953750</th>\n",
       "      <td>0.142857</td>\n",
       "      <td>0.103448</td>\n",
       "      <td>0.283613</td>\n",
       "      <td>0.441168</td>\n",
       "      <td>0.716279</td>\n",
       "      <td>0.087722</td>\n",
       "      <td>los_angeles</td>\n",
       "      <td>0.198673</td>\n",
       "      <td>-0.242495</td>\n",
       "    </tr>\n",
       "    <tr>\n",
       "      <th>1302574</th>\n",
       "      <td>0.285714</td>\n",
       "      <td>0.310345</td>\n",
       "      <td>0.764450</td>\n",
       "      <td>0.543872</td>\n",
       "      <td>0.934884</td>\n",
       "      <td>0.109837</td>\n",
       "      <td>los_angeles</td>\n",
       "      <td>0.502936</td>\n",
       "      <td>-0.040936</td>\n",
       "    </tr>\n",
       "  </tbody>\n",
       "</table>\n",
       "</div>"
      ],
      "text/plain": [
       "         bedroomcnt  bathroomcnt  calculatedfinishedsquarefeet  \\\n",
       "492481     0.142857     0.103448                      0.232857   \n",
       "108997     0.142857     0.172414                      0.490781   \n",
       "1787613    0.142857     0.103448                      0.252952   \n",
       "953750     0.142857     0.103448                      0.283613   \n",
       "1302574    0.285714     0.310345                      0.764450   \n",
       "\n",
       "         taxvaluedollarcnt  yearbuilt  taxamount       county      yhat  \\\n",
       "492481            0.261201   0.711628   0.049164       orange  0.166556   \n",
       "108997            0.440578   0.651163   0.066706  los_angeles  0.329765   \n",
       "1787613           0.046021   0.781395   0.008569      ventura  0.179272   \n",
       "953750            0.441168   0.716279   0.087722  los_angeles  0.198673   \n",
       "1302574           0.543872   0.934884   0.109837  los_angeles  0.502936   \n",
       "\n",
       "         residual  \n",
       "492481  -0.094646  \n",
       "108997  -0.110813  \n",
       "1787613  0.133251  \n",
       "953750  -0.242495  \n",
       "1302574 -0.040936  "
      ]
     },
     "execution_count": 16,
     "metadata": {},
     "output_type": "execute_result"
    }
   ],
   "source": [
    "train.head()"
   ]
  },
  {
   "cell_type": "code",
   "execution_count": 35,
   "id": "a53413eb",
   "metadata": {},
   "outputs": [
    {
     "data": {
      "image/png": "[encoded data removed]",
      "text/plain": [
       "<Figure size 432x288 with 1 Axes>"
      ]
     },
     "metadata": {
      "needs_background": "light"
     },
     "output_type": "display_data"
    }
   ],
   "source": [
    "plt.scatter(train.calculatedfinishedsquarefeet, train.residual)\n",
    "plt.axhline(y = 0, ls = '-', color = \"#FF5E13\")\n",
    "plt.xlabel('calculatedfinishedsquarefeet')\n",
    "plt.ylabel('Residual')\n",
    "plt.title('OLS model residuals')\n",
    "plt.show()"
   ]
  },
  {
   "cell_type": "markdown",
   "id": "99516dbf",
   "metadata": {},
   "source": [
    "##### 4. Calculate the sum of squared errors, explained sum of squares, total sum of squares, mean squared error, and root mean squared error for your model."
   ]
  },
  {
   "cell_type": "code",
   "execution_count": 45,
   "id": "df9e9146",
   "metadata": {},
   "outputs": [
    {
     "name": "stdout",
     "output_type": "stream",
     "text": [
      "Sum of squared errors: 23437.0231996512\n",
      "Explained sum of squares: 10552.400336555667\n",
      "Total sum of squares: 33989.42353620687 \n",
      "Mean squared error: 0.02023377397424114\n",
      "Root mean squared error: 0.14224547083911368\n"
     ]
    }
   ],
   "source": [
    "MSE = mean_squared_error(train.taxvaluedollarcnt, train.yhat)\n",
    "SSE = MSE * len(train)\n",
    "RMSE = mean_squared_error(train.taxvaluedollarcnt, train.yhat, squared = False)\n",
    "ESS = sum((train.yhat - train.taxvaluedollarcnt.mean())**2)\n",
    "TSS = ESS + SSE\n",
    "\n",
    "print(f\"Sum of squared errors: {SSE}\")\n",
    "print(f\"Explained sum of squares: {ESS}\")\n",
    "print(f\"Total sum of squares: {TSS} \")\n",
    "print(f\"Mean squared error: {MSE}\")\n",
    "print(f\"Root mean squared error: {RMSE}\")"
   ]
  },
  {
   "cell_type": "code",
   "execution_count": 40,
   "id": "e36bdfaf",
   "metadata": {},
   "outputs": [
    {
     "data": {
      "text/plain": [
       "0.31046129174015"
      ]
     },
     "execution_count": 40,
     "metadata": {},
     "output_type": "execute_result"
    }
   ],
   "source": [
    "r2_score(train.taxvaluedollarcnt, train.yhat)"
   ]
  },
  {
   "cell_type": "code",
   "execution_count": 41,
   "id": "f291cd21",
   "metadata": {},
   "outputs": [
    {
     "data": {
      "text/plain": [
       "0.3104612917402037"
      ]
     },
     "execution_count": 41,
     "metadata": {},
     "output_type": "execute_result"
    }
   ],
   "source": [
    "R2 = ESS/TSS\n",
    "R2"
   ]
  },
  {
   "cell_type": "code",
   "execution_count": 43,
   "id": "33220882",
   "metadata": {},
   "outputs": [
    {
     "data": {
      "text/plain": [
       "10552.400336552822"
      ]
     },
     "execution_count": 43,
     "metadata": {},
     "output_type": "execute_result"
    }
   ],
   "source": [
    "((train.yhat - train.taxvaluedollarcnt.mean())**2).sum()"
   ]
  },
  {
   "cell_type": "markdown",
   "id": "3527c373",
   "metadata": {},
   "source": [
    "##### 5. Calculate the sum of squared errors, mean squared error, and root mean squared error for the baseline model (i.e. a model that always predicts the average taxvaluedollarcnt amount)."
   ]
  },
  {
   "cell_type": "code",
   "execution_count": 47,
   "id": "827cc428",
   "metadata": {},
   "outputs": [
    {
     "name": "stdout",
     "output_type": "stream",
     "text": [
      "Sum of squared errors: 33989.423536204216\n",
      "Explained sum of squares: 0.0\n",
      "Total sum of squares: 33989.423536204216 \n",
      "Mean squared error: 0.02934392766042674\n",
      "Root mean squared error: 0.17130069369511244\n"
     ]
    }
   ],
   "source": [
    "train['baseline'] = train.taxvaluedollarcnt.mean()\n",
    "MSE = mean_squared_error(train.taxvaluedollarcnt, train.baseline)\n",
    "SSE = MSE * len(train)\n",
    "RMSE = mean_squared_error(train.taxvaluedollarcnt, train.baseline, squared = False)\n",
    "ESS = sum((train.baseline - train.taxvaluedollarcnt.mean())**2)\n",
    "TSS = ESS + SSE\n",
    "\n",
    "print(f\"Sum of squared errors: {SSE}\")\n",
    "print(f\"Explained sum of squares: {ESS}\")\n",
    "print(f\"Total sum of squares: {TSS} \")\n",
    "print(f\"Mean squared error: {MSE}\")\n",
    "print(f\"Root mean squared error: {RMSE}\")"
   ]
  },
  {
   "cell_type": "markdown",
   "id": "9c607d1c",
   "metadata": {},
   "source": [
    "##### 6. Write python code that compares the sum of squared errors for your model against the sum of squared errors for the baseline model and outputs whether or not your model performs better than the baseline model."
   ]
  },
  {
   "cell_type": "code",
   "execution_count": 49,
   "id": "4aa0af34",
   "metadata": {},
   "outputs": [
    {
     "name": "stdout",
     "output_type": "stream",
     "text": [
      "The baseline model sum of squared errors is: 33989.423536204216\n",
      "The model sum of squared errors is: 23437.0231996512\n"
     ]
    }
   ],
   "source": [
    "print(f\"The baseline model sum of squared errors is: {mean_squared_error(train.taxvaluedollarcnt, train.baseline) * len(train)}\")\n",
    "print(f\"The model sum of squared errors is: {mean_squared_error(train.taxvaluedollarcnt, train.yhat) * len(train)}\")"
   ]
  },
  {
   "cell_type": "markdown",
   "id": "1eac8150",
   "metadata": {},
   "source": [
    "##### 7. What is the amount of variance explained in your model?"
   ]
  },
  {
   "cell_type": "code",
   "execution_count": 53,
   "id": "3030bd95",
   "metadata": {},
   "outputs": [
    {
     "name": "stdout",
     "output_type": "stream",
     "text": [
      "The amount of variance explained in my model is: 10552.400336553015\n"
     ]
    }
   ],
   "source": [
    "print(f\"The amount of variance explained in my model is: \\\n",
    "{(mean_squared_error(train.taxvaluedollarcnt, train.baseline) * len(train)) - (mean_squared_error(train.taxvaluedollarcnt, train.yhat) * len(train))}\")"
   ]
  },
  {
   "cell_type": "markdown",
   "id": "90c543e1",
   "metadata": {},
   "source": [
    "##### 8. Is your model better than the baseline model?"
   ]
  },
  {
   "cell_type": "code",
   "execution_count": null,
   "id": "3052457c",
   "metadata": {},
   "outputs": [],
   "source": [
    "print(\"My model is better than the baseline model.\")"
   ]
  },
  {
   "cell_type": "markdown",
   "id": "f35b0fea",
   "metadata": {},
   "source": [
    "##### 9. Create a file named evaluate.py that contains the following functions.\n",
    "- plot_residuals(y, yhat): creates a residual plot\n",
    "- regression_errors(y, yhat): returns the following values:\n",
    "    - sum of squared errors (SSE)\n",
    "    - explained sum of squares (ESS)\n",
    "    - total sum of squares (TSS)\n",
    "    - mean squared error (MSE)\n",
    "    - root mean squared error (RMSE)\n",
    "- baseline_mean_errors(y): computes the SSE, MSE, and RMSE for the baseline model\n",
    "- better_than_baseline(y, yhat): returns true if your model performs better than the baseline, otherwise false"
   ]
  },
  {
   "cell_type": "code",
   "execution_count": 74,
   "id": "cc188130",
   "metadata": {},
   "outputs": [],
   "source": [
    "def plot_residuals(x, y, yhat):\n",
    "    residual = yhat - y\n",
    "    baseline_residual = y.mean() - y\n",
    "\n",
    "    plt.figure(figsize = (11,5))\n",
    "\n",
    "    plt.subplot(121)\n",
    "    plt.scatter(x, baseline_residual)\n",
    "    plt.axhline(y = 0, ls = '-', color = \"#FF5E13\")\n",
    "    plt.xlabel('x')\n",
    "    plt.ylabel('Residual')\n",
    "    plt.title('Baseline Residuals')\n",
    "\n",
    "    plt.subplot(122)\n",
    "    plt.scatter(x, residual)\n",
    "    plt.axhline(y = 0, ls = '-', color = \"#FF5E13\")\n",
    "    plt.xlabel('x')\n",
    "    plt.ylabel('Residual')\n",
    "    plt.title('OLS model residuals')"
   ]
  },
  {
   "cell_type": "code",
   "execution_count": 75,
   "id": "a6c931cd",
   "metadata": {},
   "outputs": [
    {
     "data": {
      "image/png": "[encoded data removed]",
      "text/plain": [
       "<Figure size 792x360 with 2 Axes>"
      ]
     },
     "metadata": {
      "needs_background": "light"
     },
     "output_type": "display_data"
    }
   ],
   "source": [
    "plot_residuals(train.calculatedfinishedsquarefeet, train.taxvaluedollarcnt, train.yhat)"
   ]
  },
  {
   "cell_type": "code",
   "execution_count": 86,
   "id": "7d28da35",
   "metadata": {},
   "outputs": [],
   "source": [
    "def regression_errors(y, yhat):\n",
    "    '''\n",
    "    Function that takes in a target variable and target variable predictions made by a linear regression model. It prints out the \n",
    "    following information:\n",
    "            Sum of squared errors\n",
    "            Explained sum of squares\n",
    "            Total sum of squares\n",
    "            Mean squared error\n",
    "            Root mean squared error\n",
    "\n",
    "    Arguments:  y - the actual datapoints of a target variable\n",
    "                yhat - the predicted datapoints of a target variable made by a linear regression model\n",
    "    '''\n",
    "    MSE = mean_squared_error(y, yhat)\n",
    "    SSE = MSE * len(y)\n",
    "    RMSE = mean_squared_error(y, yhat, squared = False)\n",
    "    ESS = sum((yhat - y.mean())**2)\n",
    "    TSS = ESS + SSE\n",
    "\n",
    "    return SSE, ESS, TSS, MSE, RMSE"
   ]
  },
  {
   "cell_type": "code",
   "execution_count": 77,
   "id": "1ff54fd6",
   "metadata": {},
   "outputs": [
    {
     "name": "stdout",
     "output_type": "stream",
     "text": [
      "Sum of squared errors: 23437.0231996512\n",
      "Explained sum of squares: 10552.400336555667\n",
      "Total sum of squares: 33989.42353620687 \n",
      "Mean squared error: 0.02023377397424114\n",
      "Root mean squared error: 0.14224547083911368\n"
     ]
    }
   ],
   "source": [
    "regression_errors(train.taxvaluedollarcnt, train.yhat)"
   ]
  },
  {
   "cell_type": "code",
   "execution_count": 85,
   "id": "7e89e248",
   "metadata": {},
   "outputs": [],
   "source": [
    "def baseline_mean_errors(y):\n",
    "    baseline = pd.Series(y.mean()).repeat(len(y))\n",
    "    MSE = mean_squared_error(y, baseline)\n",
    "    SSE = MSE * len(y)\n",
    "    RMSE = mean_squared_error(y, baseline, squared = False)\n",
    "\n",
    "    return MSE, SSE, RMSE"
   ]
  },
  {
   "cell_type": "code",
   "execution_count": 81,
   "id": "9a8f2d90",
   "metadata": {},
   "outputs": [
    {
     "data": {
      "text/plain": [
       "(0.02934392766042674, 33989.423536204216, 0.17130069369511244)"
      ]
     },
     "execution_count": 81,
     "metadata": {},
     "output_type": "execute_result"
    }
   ],
   "source": [
    "baseline_mean_errors(train.taxvaluedollarcnt)"
   ]
  },
  {
   "cell_type": "code",
   "execution_count": 83,
   "id": "b16996cc",
   "metadata": {},
   "outputs": [],
   "source": [
    "def better_than_baseline(y, yhat):\n",
    "    model_SSE, model_ESS, model_TSS, model_MSE, model_RMSE = regression_errors(y, yhat)\n",
    "    baseline_MSE, baseline_SSE, baseline_RMSE = baseline_mean_errors(y)\n",
    "\n",
    "    return (model_SSE - baseline_MSE) > 0"
   ]
  },
  {
   "cell_type": "code",
   "execution_count": 87,
   "id": "cfdead46",
   "metadata": {},
   "outputs": [
    {
     "data": {
      "text/plain": [
       "True"
      ]
     },
     "execution_count": 87,
     "metadata": {},
     "output_type": "execute_result"
    }
   ],
   "source": [
    "better_than_baseline(train.taxvaluedollarcnt, train.yhat)"
   ]
  },
  {
   "cell_type": "code",
   "execution_count": null,
   "id": "8cb098ee",
   "metadata": {},
   "outputs": [],
   "source": []
  }
 ],
 "metadata": {
  "kernelspec": {
   "display_name": "Python 3 (ipykernel)",
   "language": "python",
   "name": "python3"
  },
  "language_info": {
   "codemirror_mode": {
    "name": "ipython",
    "version": 3
   },
   "file_extension": ".py",
   "mimetype": "text/x-python",
   "name": "python",
   "nbconvert_exporter": "python",
   "pygments_lexer": "ipython3",
   "version": "3.9.7"
  }
 },
 "nbformat": 4,
 "nbformat_minor": 5
}
